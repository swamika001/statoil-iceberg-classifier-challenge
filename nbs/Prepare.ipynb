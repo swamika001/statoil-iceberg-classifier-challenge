{
 "cells": [
  {
   "cell_type": "code",
   "execution_count": 17,
   "metadata": {
    "collapsed": true
   },
   "outputs": [],
   "source": [
    "import os\n",
    "import numpy as np\n",
    "import pandas as pd\n",
    "import matplotlib.pyplot as plt"
   ]
  },
  {
   "cell_type": "code",
   "execution_count": 8,
   "metadata": {
    "collapsed": true
   },
   "outputs": [],
   "source": [
    "width = height = 75"
   ]
  },
  {
   "cell_type": "code",
   "execution_count": 11,
   "metadata": {
    "collapsed": true
   },
   "outputs": [],
   "source": [
    "def load_and_format(path):\n",
    "    print(path)\n",
    "    df = pd.read_json(path)\n",
    "    images = df.apply(lambda c_row: [np.stack([c_row['band_1'], c_row['band_2']], -1).reshape((height, width, 2))],1)\n",
    "    images = np.stack(images).squeeze()\n",
    "    return df, images"
   ]
  },
  {
   "cell_type": "code",
   "execution_count": 13,
   "metadata": {},
   "outputs": [
    {
     "name": "stdout",
     "output_type": "stream",
     "text": [
      "data/train.json\n"
     ]
    },
    {
     "data": {
      "text/plain": [
       "(1604, 75, 75, 2)"
      ]
     },
     "execution_count": 13,
     "metadata": {},
     "output_type": "execute_result"
    }
   ],
   "source": [
    "df, train = load_and_format(os.path.join('data', 'train.json'))\n",
    "train.shape"
   ]
  },
  {
   "cell_type": "code",
   "execution_count": 14,
   "metadata": {
    "collapsed": true
   },
   "outputs": [],
   "source": [
    "def normalize(images):\n",
    "    val_max = np.amax(images, axis=(0,1,2))\n",
    "    val_min = np.amin(images, axis=(0,1,2))\n",
    "\n",
    "    im = []\n",
    "    for row in images:\n",
    "        # Rescale\n",
    "        b1 = (row[:,:,0] - val_min[0]) / (val_max[0] - val_min[0])\n",
    "        b2 = (row[:,:,1] - val_min[1]) / (val_max[1] - val_min[1])\n",
    "\n",
    "        im.append(np.dstack((b1, b2)))\n",
    "    return np.array(im)"
   ]
  },
  {
   "cell_type": "code",
   "execution_count": 15,
   "metadata": {},
   "outputs": [
    {
     "data": {
      "text/plain": [
       "(1604, 75, 75, 2)"
      ]
     },
     "execution_count": 15,
     "metadata": {},
     "output_type": "execute_result"
    }
   ],
   "source": [
    "train_norm = normalize(train)\n",
    "train_norm.shape"
   ]
  },
  {
   "cell_type": "code",
   "execution_count": 16,
   "metadata": {},
   "outputs": [
    {
     "data": {
      "text/plain": [
       "array([[[ 0.22098325,  0.28113435],\n",
       "        [ 0.23001664,  0.24491221],\n",
       "        [ 0.21112595,  0.22222998],\n",
       "        ..., \n",
       "        [ 0.24973336,  0.25163736],\n",
       "        [ 0.23831764,  0.24486678],\n",
       "        [ 0.18819452,  0.27569978]],\n",
       "\n",
       "       [[ 0.21112701,  0.22223123],\n",
       "        [ 0.22098275,  0.18426091],\n",
       "        [ 0.2255933 ,  0.21371187],\n",
       "        ..., \n",
       "        [ 0.23831817,  0.17273192],\n",
       "        [ 0.21108919,  0.26421622],\n",
       "        [ 0.17463381,  0.29124535]],\n",
       "\n",
       "       [[ 0.21112701,  0.18426161],\n",
       "        [ 0.23001664,  0.13074568],\n",
       "        [ 0.24609657,  0.21371187],\n",
       "        ..., \n",
       "        [ 0.22997989,  0.21366766],\n",
       "        [ 0.22094543,  0.20456102],\n",
       "        [ 0.15912966,  0.24486614]],\n",
       "\n",
       "       ..., \n",
       "       [[ 0.20583353,  0.2701203 ],\n",
       "        [ 0.21111911,  0.27011966],\n",
       "        [ 0.18822447,  0.23776657],\n",
       "        ..., \n",
       "        [ 0.19438152,  0.30947206],\n",
       "        [ 0.24605297,  0.27569209],\n",
       "        [ 0.23831027,  0.25806733]],\n",
       "\n",
       "       [[ 0.1746648 ,  0.24490387],\n",
       "        [ 0.22097538,  0.24490326],\n",
       "        [ 0.21111859,  0.25167256],\n",
       "        ..., \n",
       "        [ 0.2255497 ,  0.25806795],\n",
       "        [ 0.23422131,  0.26420724],\n",
       "        [ 0.22554862,  0.18420584]],\n",
       "\n",
       "       [[ 0.20583353,  0.23776785],\n",
       "        [ 0.23425865,  0.25811276],\n",
       "        [ 0.23000877,  0.27573626],\n",
       "        ..., \n",
       "        [ 0.23422184,  0.23017836],\n",
       "        [ 0.22093807,  0.25806733],\n",
       "        [ 0.21612147,  0.25162711]]])"
      ]
     },
     "execution_count": 16,
     "metadata": {},
     "output_type": "execute_result"
    }
   ],
   "source": [
    "train_norm[0]"
   ]
  },
  {
   "cell_type": "code",
   "execution_count": 27,
   "metadata": {},
   "outputs": [
    {
     "data": {
      "text/plain": [
       "<matplotlib.image.AxesImage at 0x7fa235a61eb8>"
      ]
     },
     "execution_count": 27,
     "metadata": {},
     "output_type": "execute_result"
    }
   ],
   "source": [
    "fig, (ax1, ax2) = plt.subplots(1,2, figsize = (10, 5))\n",
    "ax1.matshow(train[0,:,:,0])\n",
    "ax2.matshow(train_norm[0,:,:,0])"
   ]
  },
  {
   "cell_type": "code",
   "execution_count": 28,
   "metadata": {},
   "outputs": [
    {
     "data": {
      "image/png": "[encoded data removed]",
      "text/plain": [
       "<matplotlib.figure.Figure at 0x7fa235ae2940>"
      ]
     },
     "metadata": {},
     "output_type": "display_data"
    }
   ],
   "source": [
    "plt.show()"
   ]
  },
  {
   "cell_type": "code",
   "execution_count": null,
   "metadata": {
    "collapsed": true
   },
   "outputs": [],
   "source": []
  }
 ],
 "metadata": {
  "kernelspec": {
   "display_name": "Python 3",
   "language": "python",
   "name": "python3"
  },
  "language_info": {
   "codemirror_mode": {
    "name": "ipython",
    "version": 3
   },
   "file_extension": ".py",
   "mimetype": "text/x-python",
   "name": "python",
   "nbconvert_exporter": "python",
   "pygments_lexer": "ipython3",
   "version": "3.5.4"
  }
 },
 "nbformat": 4,
 "nbformat_minor": 2
}
